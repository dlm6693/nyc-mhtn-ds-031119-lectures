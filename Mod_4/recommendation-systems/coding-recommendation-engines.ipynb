{
 "cells": [
  {
   "cell_type": "markdown",
   "metadata": {},
   "source": [
    "# Recommendation Engines: Implementing Surprise\n",
    "- Surprise is a scikit library that stands for **Simple Python RecommendatIon System Engine**\n",
    "- Has built-in similarity metrics, baseline methods, content-based systems, matrix factorization systems\n",
    "\n",
    "In this notebook, we'll first walk through setting up a super basic recommendation system, using the popular MovieLens 100K Dataset. Then, we'll look into more detail how Surprise works.\n",
    "\n",
    "## Fitting and Predicting with Surprise\n",
    "\n",
    "### 1. Install surprise if you haven't, and import the usual libraries."
   ]
  },
  {
   "cell_type": "code",
   "execution_count": 1,
   "metadata": {},
   "outputs": [],
   "source": [
    "# import libraries\n",
    "import numpy as np\n",
    "import pandas as pd\n",
    "\n",
    "from surprise import Dataset, Reader\n",
    "from surprise import SVD\n",
    "from surprise import accuracy\n",
    "from surprise.model_selection import cross_validate, train_test_split"
   ]
  },
  {
   "cell_type": "markdown",
   "metadata": {},
   "source": [
    "### 2. Load in the dataset\n",
    "\n",
    "Surprise has the dataset built in. You might need to download the dataset so follow the instructions in the code output! Unfortunately, the Surprise data format doesn't let us inspect the data, but here is the documentation: https://grouplens.org/datasets/movielens/100k/\n"
   ]
  },
  {
   "cell_type": "code",
   "execution_count": 2,
   "metadata": {},
   "outputs": [
    {
     "name": "stdout",
     "output_type": "stream",
     "text": [
      "Dataset ml-100k could not be found. Do you want to download it? [Y/n] y\n",
      "Trying to download dataset from http://files.grouplens.org/datasets/movielens/ml-100k.zip...\n",
      "Done! Dataset ml-100k has been saved to C:\\Users\\dlm66/.surprise_data/ml-100k\n"
     ]
    }
   ],
   "source": [
    "data = Dataset.load_builtin('ml-100k')\n",
    "\n",
    "# train-test split\n",
    "train, test = train_test_split(data, test_size=.2)"
   ]
  },
  {
   "cell_type": "markdown",
   "metadata": {},
   "source": [
    "### 3. Run the default Singular Value Decomposition Model!"
   ]
  },
  {
   "cell_type": "code",
   "execution_count": 6,
   "metadata": {},
   "outputs": [],
   "source": [
    "svd = SVD()\n",
    "svd.fit(train)\n",
    "predictions = svd.test(test)"
   ]
  },
  {
   "cell_type": "code",
   "execution_count": 7,
   "metadata": {},
   "outputs": [
    {
     "name": "stdout",
     "output_type": "stream",
     "text": [
      "RMSE: 0.9433\n"
     ]
    },
    {
     "data": {
      "text/plain": [
       "0.9432655050073416"
      ]
     },
     "execution_count": 7,
     "metadata": {},
     "output_type": "execute_result"
    }
   ],
   "source": [
    "accuracy.rmse(predictions)"
   ]
  },
  {
   "cell_type": "markdown",
   "metadata": {},
   "source": [
    "### 4. Make a prediction!"
   ]
  },
  {
   "cell_type": "code",
   "execution_count": 10,
   "metadata": {},
   "outputs": [
    {
     "name": "stdout",
     "output_type": "stream",
     "text": [
      "user: 196        item: 302        r_ui = 4.00   est = 4.11   {'was_impossible': False}\n"
     ]
    }
   ],
   "source": [
    "uid = str(196)  # raw user id (as in the ratings file). They are **strings**!\n",
    "iid = str(302)\n",
    "\n",
    "# get a prediction for specific users and items.\n",
    "pred = svd.predict(uid, iid, r_ui=4, verbose=True)"
   ]
  },
  {
   "cell_type": "markdown",
   "metadata": {},
   "source": [
    "## Applying Surprise\n",
    "\n",
    "### 1. How does Surprise take in your data?\n",
    "https://surprise.readthedocs.io/en/stable/getting_started.html#use-a-custom-dataset\n",
    "\n",
    "The dataset we'll use is a subset of the Yelp Open Dataset that's already been joined and cleaned.\n",
    "https://www.yelp.com/dataset"
   ]
  },
  {
   "cell_type": "code",
   "execution_count": 11,
   "metadata": {},
   "outputs": [],
   "source": [
    "yelp = pd.read_csv('yelp_reviews.csv').drop(['Unnamed: 0'], axis = 1)"
   ]
  },
  {
   "cell_type": "code",
   "execution_count": 12,
   "metadata": {
    "scrolled": true
   },
   "outputs": [
    {
     "data": {
      "text/html": [
       "<div>\n",
       "<style scoped>\n",
       "    .dataframe tbody tr th:only-of-type {\n",
       "        vertical-align: middle;\n",
       "    }\n",
       "\n",
       "    .dataframe tbody tr th {\n",
       "        vertical-align: top;\n",
       "    }\n",
       "\n",
       "    .dataframe thead th {\n",
       "        text-align: right;\n",
       "    }\n",
       "</style>\n",
       "<table border=\"1\" class=\"dataframe\">\n",
       "  <thead>\n",
       "    <tr style=\"text-align: right;\">\n",
       "      <th></th>\n",
       "      <th>user_id</th>\n",
       "      <th>business_id</th>\n",
       "      <th>stars</th>\n",
       "    </tr>\n",
       "  </thead>\n",
       "  <tbody>\n",
       "    <tr>\n",
       "      <th>0</th>\n",
       "      <td>brd33PD_6nqK_VVnO3NWAg</td>\n",
       "      <td>--1UhMGODdWsrMastO9DZw</td>\n",
       "      <td>4.0</td>\n",
       "    </tr>\n",
       "    <tr>\n",
       "      <th>1</th>\n",
       "      <td>NqpKiaRsGfuU2voV5dPRCQ</td>\n",
       "      <td>--1UhMGODdWsrMastO9DZw</td>\n",
       "      <td>1.0</td>\n",
       "    </tr>\n",
       "    <tr>\n",
       "      <th>2</th>\n",
       "      <td>dhzlnpisqA7V1zfiO12AZA</td>\n",
       "      <td>--1UhMGODdWsrMastO9DZw</td>\n",
       "      <td>2.0</td>\n",
       "    </tr>\n",
       "    <tr>\n",
       "      <th>3</th>\n",
       "      <td>A4bpHuvzaQt9-XAg8e9Msw</td>\n",
       "      <td>--1UhMGODdWsrMastO9DZw</td>\n",
       "      <td>3.0</td>\n",
       "    </tr>\n",
       "    <tr>\n",
       "      <th>4</th>\n",
       "      <td>GL81ktDIteXA2VVH6gIakg</td>\n",
       "      <td>--1UhMGODdWsrMastO9DZw</td>\n",
       "      <td>5.0</td>\n",
       "    </tr>\n",
       "  </tbody>\n",
       "</table>\n",
       "</div>"
      ],
      "text/plain": [
       "                  user_id             business_id  stars\n",
       "0  brd33PD_6nqK_VVnO3NWAg  --1UhMGODdWsrMastO9DZw    4.0\n",
       "1  NqpKiaRsGfuU2voV5dPRCQ  --1UhMGODdWsrMastO9DZw    1.0\n",
       "2  dhzlnpisqA7V1zfiO12AZA  --1UhMGODdWsrMastO9DZw    2.0\n",
       "3  A4bpHuvzaQt9-XAg8e9Msw  --1UhMGODdWsrMastO9DZw    3.0\n",
       "4  GL81ktDIteXA2VVH6gIakg  --1UhMGODdWsrMastO9DZw    5.0"
      ]
     },
     "execution_count": 12,
     "metadata": {},
     "output_type": "execute_result"
    }
   ],
   "source": [
    "yelp.head()"
   ]
  },
  {
   "cell_type": "markdown",
   "metadata": {},
   "source": [
    "### 2. Inspecting the dataset:\n",
    "\n",
    "Here's where you'd do a **comprehensive** EDA!"
   ]
  },
  {
   "cell_type": "code",
   "execution_count": 14,
   "metadata": {
    "scrolled": true
   },
   "outputs": [
    {
     "name": "stdout",
     "output_type": "stream",
     "text": [
      "Number of Users:  79773\n",
      "Number of Businesses:  2518\n"
     ]
    }
   ],
   "source": [
    "print('Number of Users: ', yelp['user_id'].nunique())\n",
    "print('Number of Businesses: ', len(yelp['business_id'].unique()))"
   ]
  },
  {
   "cell_type": "markdown",
   "metadata": {},
   "source": [
    "1. What's the distribution of ratings? i.e. How many 1-star, 2-star, 3-star reviews?\n",
    "2. How many reviews does a restaurant have?\n",
    "3. How many reviews does a user make?"
   ]
  },
  {
   "cell_type": "code",
   "execution_count": 15,
   "metadata": {},
   "outputs": [
    {
     "data": {
      "text/plain": [
       "5.0    42685\n",
       "4.0    23143\n",
       "1.0    14315\n",
       "3.0    11522\n",
       "2.0     8335\n",
       "Name: stars, dtype: int64"
      ]
     },
     "execution_count": 15,
     "metadata": {},
     "output_type": "execute_result"
    }
   ],
   "source": [
    "yelp.stars.value_counts()"
   ]
  },
  {
   "cell_type": "code",
   "execution_count": 16,
   "metadata": {},
   "outputs": [
    {
     "data": {
      "text/plain": [
       "-ed0Yc9on37RoIoG2ZgxBA    1694\n",
       "--9e1ONYQuAa-CB_Rrw7Tw    1661\n",
       "-6tvduBzjLI1ISfs3F_qTg    1194\n",
       "-U7tvCtaraTQ9b0zBhpBMA    1180\n",
       "-FLnsWAa4AGEW4NgE8Fqew    1128\n",
       "-Eu04UHRqmGGyvYRDY8-tg     940\n",
       "-av1lZI1JDY_RZN2eTMnWg     903\n",
       "-kG0N8sBhBotMbu0KVSPaw     882\n",
       "-WLrZPzjKfrftLWaCi1QZQ     866\n",
       "-Ht7HiGBox8lS1Y8IPjO8g     865\n",
       "-IWsoxH7mLJTTpU5MmWY4w     853\n",
       "-ZBfr1BHvArFp1d6XH8jOQ     808\n",
       "-oUM2uISux96lMGeawHIOA     795\n",
       "-kIscN8I29eXMPkvyyxmRQ     793\n",
       "-95mbLJsa0CxXhpaNL4LvA     736\n",
       "-050d_XIor1NpCuWkbIVaQ     725\n",
       "-bd4BQcl1ekgo7avaFngIw     679\n",
       "-Ylpy3VyRWwubf9dysuwjQ     677\n",
       "-FtngCwHCD2tRlH8jpj_Ag     664\n",
       "-3zffZUHoY8bQjGfPSoBKQ     653\n",
       "-9dmhyBvepc08KPEHlEM0w     638\n",
       "-Bdw-5H5C4AYSMGnAvmnzw     638\n",
       "-fiUXzkxRfbHY9TKWwuptw     623\n",
       "-o082vExIs0VVNSuZmiTQA     577\n",
       "-bMZCfTK7fxFaURynKpBMA     572\n",
       "-6h3K1hj0d4DRcZNUtHDuw     552\n",
       "-7H-oXvCxJzuT42ky6Db0g     550\n",
       "-a857YYdjzgOdOjFFRsRXQ     549\n",
       "-Dnh48f029YNugtMKkkI-Q     541\n",
       "-C8S2OPEOI1fL-2Q41tWVA     515\n",
       "                          ... \n",
       "-UxecpcfbpaVgI46fS2KkA       3\n",
       "-3VEk6j5XnEnOOthoY2jYQ       3\n",
       "-6pjRBsLbkHyGcohvu_Jkw       3\n",
       "-RRnldwSqCZT6OpuWKXolg       3\n",
       "-HrD-xfoQx9xyYPqNGEdyQ       3\n",
       "-p--FfNWNGhrdGt1t-ubFA       3\n",
       "--YPwqIlRJrhHkJcjY3eiA       3\n",
       "-64YsJzeTVvOaFDRdU_KxA       3\n",
       "-dvNb7cOC17m-lZtNGT8Gw       3\n",
       "-a7OAVqkyYFAEzC2Z-CZUw       3\n",
       "-PW4XFCs3_G1BRwZzjLOmA       3\n",
       "-AGPeLecG3O0JpvHjNSasQ       3\n",
       "-4jHuk6gDt4sLyhNVcmGAA       3\n",
       "-BCsZDnoWqGB_hLnpY0LCg       3\n",
       "-SZQrRrIzvy764ARsOF3iA       3\n",
       "-9Tfvyk5ip565mhYBs0zMQ       3\n",
       "-NijOs_Jlne4ftywFywKYQ       3\n",
       "-QD-gLkW81l7LDEhwQTkRw       3\n",
       "-4h-Q_DSBq5cE1f6j35uFg       3\n",
       "-FlDEBlxbnBHG7PHbrBjpQ       3\n",
       "-_HD4JsQvmjUuVOdmSN6Jw       3\n",
       "-cviY078wmg1nwhMIWSlXA       3\n",
       "-i2BBS8yPZ9g32ABwN2kBQ       3\n",
       "-nPbrlb47UKBfUpTpWZv7A       3\n",
       "-aikCCa3-xSW1P3zEuDm3g       3\n",
       "-MmBTNSCabseXZG8cuU64Q       3\n",
       "-EOkXdih0os9dWdSe3W8kA       3\n",
       "-duJ_a3-vDxtMNzyIkow7A       3\n",
       "-pG5nR5xmwzPvdPsw2ckkQ       3\n",
       "-NEKCdgMmaZ-E1vvdViNLA       3\n",
       "Name: business_id, Length: 2518, dtype: int64"
      ]
     },
     "execution_count": 16,
     "metadata": {},
     "output_type": "execute_result"
    }
   ],
   "source": [
    "yelp.business_id.value_counts()"
   ]
  },
  {
   "cell_type": "code",
   "execution_count": 17,
   "metadata": {},
   "outputs": [
    {
     "data": {
      "text/plain": [
       "CxDOIDnH8gp9KXzpBHJYXw    50\n",
       "U4INQZOPSUaj8hMjLlZ3KA    33\n",
       "bLbSNkLggFnqwNNzzq-Ijw    31\n",
       "DK57YibC5ShBmqQl97CKog    27\n",
       "QJI9OSEn6ujRCtrX06vs1w    27\n",
       "PKEzKWv_FktMm2mGPjwd0Q    24\n",
       "M9rRM6Eo5YbKLKMG5QiIPA    24\n",
       "j6wLUT0ZXi-x0otelYIFpA    23\n",
       "rCWrxuRC8_pfagpchtHp6A    22\n",
       "iDlkZO2iILS8Jwfdy7DP9A    22\n",
       "dIIKEfOgo0KqUfGQvGikPg    22\n",
       "JnPIjvC0cmooNDfsa9BmXg    21\n",
       "24AzZDQKHySwMQR7VQVCAg    21\n",
       "U5YQX_vMl_xQy8EQDqlNQQ    21\n",
       "d_TBs6J3twMy9GChqUEXkg    21\n",
       "MMf0LhEk5tGa1LvN7zcDnA    20\n",
       "N3oNEwh0qgPqPP3Em6wJXw    20\n",
       "UYcmGbelzRa0Q6JqzLoguw    20\n",
       "n86B7IkbU20AkxlFX_5aew    20\n",
       "cMEtAiW60I5wE_vLfTxoJQ    20\n",
       "pMefTWo6gMdx8WhYSA2u3w    20\n",
       "orh0HRUNCWuQMt9Iia_osg    19\n",
       "TbhyP24zYZqZ2VJZgu1wrg    18\n",
       "YRcaNlwQ6XXPFDXWtuMGdA    18\n",
       "hWDybu_KvYLSdEFzGrniTw    18\n",
       "Ry1O_KXZHGRI8g5zBR3IcQ    18\n",
       "V-BbqKqO8anwplGRx9Q5aQ    17\n",
       "ic-tyi1jElL_umxZVh8KNA    17\n",
       "sTcYq6goD1Fa2WS9MSkSvQ    17\n",
       "ELcQDlf69kb-ihJfxZyL0A    17\n",
       "                          ..\n",
       "OfLGtBmgSZ7OQJhSbyBB1w     1\n",
       "I-tI5T5TdKEDTGYqChe3eA     1\n",
       "hgHuaQYsQH400lRoHJpJ0Q     1\n",
       "xhy-g_FZbvcZG7c4hvyOTg     1\n",
       "nClFyWAFi3aHAjNMydItRg     1\n",
       "e69xEOPgtJTYKrl_iaOgWA     1\n",
       "TQmKq2HnmEf2PRtOXPtSkw     1\n",
       "olfZWGHOgDeYzQJGzPE4Ew     1\n",
       "cwbIj3gsega4jYWQKUfuIw     1\n",
       "uw3MVkLgUpVKncunVFSktA     1\n",
       "d8or5CCuFTen6NfDyQthBg     1\n",
       "ZBUsgfDc_6O3ZAqwfX1L0A     1\n",
       "S3cNw5W4KBzoCH6_HBiEWw     1\n",
       "WbTrS-TqpB-n7IO3z-SUjg     1\n",
       "pSv4LKv2yH6105jPiv47uw     1\n",
       "F3tKi8j31_U0--ugHLiSrw     1\n",
       "6oqnzZsp8GyZyLRmBlu0QA     1\n",
       "yqTxshKao1Mcd48EKbxVWA     1\n",
       "l06ITDWHe2rSKDji_ZsVWg     1\n",
       "V6Kf7-Cog84L1h0D19m5hw     1\n",
       "6s149mWoASzs5MR_rw7x5A     1\n",
       "nIm4QTsTyonp37YsemBvuA     1\n",
       "WsTz1AAU-pI2v7N4NTa2JQ     1\n",
       "0bxTFlEer1edGUVPG7ikFQ     1\n",
       "fC2_JlUVhHn7oiiFWkdwZQ     1\n",
       "ep6pWc0e_BmWN9bzWlmPaQ     1\n",
       "gSQnppftzwIUbdwcnHl2JQ     1\n",
       "s5mUnu5y58F0CndRO9NHwA     1\n",
       "bwFQfmIGokG6gh9LDY02OQ     1\n",
       "sMPqByfefvg_ITlz9t5dPA     1\n",
       "Name: user_id, Length: 79773, dtype: int64"
      ]
     },
     "execution_count": 17,
     "metadata": {},
     "output_type": "execute_result"
    }
   ],
   "source": [
    "yelp.user_id.value_counts()"
   ]
  },
  {
   "cell_type": "code",
   "execution_count": 22,
   "metadata": {},
   "outputs": [
    {
     "data": {
      "text/plain": [
       "<matplotlib.axes._subplots.AxesSubplot at 0x1d1531e8128>"
      ]
     },
     "execution_count": 22,
     "metadata": {},
     "output_type": "execute_result"
    },
    {
     "data": {
      "image/png": "[encoded data removed]",
      "text/plain": [
       "<Figure size 432x288 with 1 Axes>"
      ]
     },
     "metadata": {
      "needs_background": "light"
     },
     "output_type": "display_data"
    }
   ],
   "source": [
    "import seaborn as sns\n",
    "import matplotlib.pyplot as plt\n",
    "%matplotlib inline\n",
    "x = yelp[yelp.user_id == 'CxDOIDnH8gp9KXzpBHJYXw'].stars.value_counts()\n",
    "sns.distplot(x)"
   ]
  },
  {
   "cell_type": "markdown",
   "metadata": {},
   "source": [
    "### 3. Reading in the dataset and prepping data"
   ]
  },
  {
   "cell_type": "code",
   "execution_count": 23,
   "metadata": {},
   "outputs": [],
   "source": [
    "# Instantiate a 'Reader' to read in the data so Surprise can use it\n",
    "reader = Reader(rating_scale=(1, 5))\n",
    "\n",
    "# The columns must correspond to user id, item id and ratings (in that order).\n",
    "data = Dataset.load_from_df(yelp[['user_id', 'business_id', 'stars']], reader)"
   ]
  },
  {
   "cell_type": "code",
   "execution_count": 24,
   "metadata": {},
   "outputs": [],
   "source": [
    "trainset, testset = train_test_split(data, test_size=.2)"
   ]
  },
  {
   "cell_type": "markdown",
   "metadata": {},
   "source": [
    "### 4. Fitting and evaluating models\n",
    "Here, let's assume that we've tuned all these hyperparameters using GridSearch, and we've arrived at our final model."
   ]
  },
  {
   "cell_type": "code",
   "execution_count": 25,
   "metadata": {},
   "outputs": [],
   "source": [
    "final = SVD(n_epochs=20, n_factors=1, biased=True, \n",
    "              lr_all=0.005, reg_all=0.06)"
   ]
  },
  {
   "cell_type": "code",
   "execution_count": 26,
   "metadata": {},
   "outputs": [
    {
     "data": {
      "text/plain": [
       "<surprise.prediction_algorithms.matrix_factorization.SVD at 0x1d151694b70>"
      ]
     },
     "execution_count": 26,
     "metadata": {},
     "output_type": "execute_result"
    }
   ],
   "source": [
    "final.fit(trainset)"
   ]
  },
  {
   "cell_type": "code",
   "execution_count": 27,
   "metadata": {},
   "outputs": [],
   "source": [
    "predictions = final.test(testset)"
   ]
  },
  {
   "cell_type": "code",
   "execution_count": 28,
   "metadata": {
    "scrolled": true
   },
   "outputs": [
    {
     "name": "stdout",
     "output_type": "stream",
     "text": [
      "RMSE: 1.2991\n",
      "MAE:  1.0559\n"
     ]
    },
    {
     "data": {
      "text/plain": [
       "1.0558587932341983"
      ]
     },
     "execution_count": 28,
     "metadata": {},
     "output_type": "execute_result"
    }
   ],
   "source": [
    "accuracy.rmse(predictions)\n",
    "accuracy.mae(predictions)"
   ]
  },
  {
   "cell_type": "markdown",
   "metadata": {},
   "source": [
    "### 5. Making Predictions (again)\n",
    "Unfortunately, this dataset has a convoluted string as the user/business IDs."
   ]
  },
  {
   "cell_type": "code",
   "execution_count": 29,
   "metadata": {},
   "outputs": [
    {
     "data": {
      "text/plain": [
       "'HPtjvIrhzAUkKsiVkeT4MA'"
      ]
     },
     "execution_count": 29,
     "metadata": {},
     "output_type": "execute_result"
    }
   ],
   "source": [
    "yelp['user_id'][55]"
   ]
  },
  {
   "cell_type": "code",
   "execution_count": 30,
   "metadata": {},
   "outputs": [
    {
     "data": {
      "text/plain": [
       "'--7zmmkVg-IMGaXbuVd0SQ'"
      ]
     },
     "execution_count": 30,
     "metadata": {},
     "output_type": "execute_result"
    }
   ],
   "source": [
    "yelp['business_id'][123]"
   ]
  },
  {
   "cell_type": "code",
   "execution_count": 31,
   "metadata": {
    "scrolled": true
   },
   "outputs": [
    {
     "data": {
      "text/plain": [
       "Prediction(uid='HPtjvIrhzAUkKsiVkeT4MA', iid='--1UhMGODdWsrMastO9DZw', r_ui=None, est=3.7754419140246167, details={'was_impossible': False})"
      ]
     },
     "execution_count": 31,
     "metadata": {},
     "output_type": "execute_result"
    }
   ],
   "source": [
    "final.predict(yelp['user_id'][55], yelp['business_id'][13])"
   ]
  },
  {
   "cell_type": "markdown",
   "metadata": {},
   "source": [
    "### 6. What else?\n",
    "\n",
    "Surprise has sample code where you can get the top **n** recommended items for a user. https://surprise.readthedocs.io/en/stable/FAQ.html"
   ]
  },
  {
   "cell_type": "markdown",
   "metadata": {},
   "source": [
    "# Resources\n",
    "- The structure of our lesson on recommendation engines is based on Chapter 9 of **Mining of Massive Datasets**: http://infolab.stanford.edu/~ullman/mmds/book.pdf\n",
    "- Libraries for coding recommendation engines: \n",
    "    - Surprise: https://surprise.readthedocs.io/en/stable/index.html\n",
    "    - LightFM: https://lyst.github.io/lightfm/docs/index.html"
   ]
  }
 ],
 "metadata": {
  "kernelspec": {
   "display_name": "Python 3",
   "language": "python",
   "name": "python3"
  },
  "language_info": {
   "codemirror_mode": {
    "name": "ipython",
    "version": 3
   },
   "file_extension": ".py",
   "mimetype": "text/x-python",
   "name": "python",
   "nbconvert_exporter": "python",
   "pygments_lexer": "ipython3",
   "version": "3.7.3"
  }
 },
 "nbformat": 4,
 "nbformat_minor": 2
}
